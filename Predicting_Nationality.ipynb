{
  "cells": [
    {
      "cell_type": "markdown",
      "id": "1c5107a7",
      "metadata": {
        "id": "1c5107a7"
      },
      "source": [
        "# Lab Activity: Predicting Nationality from Names using Machine Learning"
      ]
    },
    {
      "cell_type": "markdown",
      "id": "eb81b94c",
      "metadata": {
        "id": "eb81b94c"
      },
      "source": [
        "## Tasneem Al Sheikh - 60104251"
      ]
    },
    {
      "cell_type": "markdown",
      "id": "43616ea8",
      "metadata": {
        "id": "43616ea8"
      },
      "source": [
        "____________________________________"
      ]
    },
    {
      "cell_type": "markdown",
      "id": "8d5916c6",
      "metadata": {
        "id": "8d5916c6"
      },
      "source": [
        "### Imports and Constants"
      ]
    },
    {
      "cell_type": "code",
      "execution_count": 1,
      "id": "7ea26527",
      "metadata": {
        "id": "7ea26527"
      },
      "outputs": [],
      "source": [
        "import torch\n",
        "from torch import nn\n",
        "import glob\n",
        "import unicodedata\n",
        "import string\n",
        "import random\n",
        "from torch.utils.data import Dataset, DataLoader, random_split\n",
        "import matplotlib.pyplot as plt\n",
        "import os"
      ]
    },
    {
      "cell_type": "markdown",
      "id": "90e5a4e5",
      "metadata": {
        "id": "90e5a4e5"
      },
      "source": [
        "### Constants"
      ]
    },
    {
      "cell_type": "code",
      "execution_count": 2,
      "id": "585758bb",
      "metadata": {
        "id": "585758bb"
      },
      "outputs": [],
      "source": [
        "MAX_LENGTH = 20\n",
        "EMBEDDING_DIM = 128\n",
        "HIDDEN_SIZE = 256\n",
        "BATCH_SIZE = 64\n",
        "LEARNING_RATE = 0.001\n",
        "NUM_EPOCHS = 15\n",
        "DATA_PATH = r\"C:\\Users\\user\\OneDrive\\Desktop\\Resources\\Selected Topics in AI\\Assignment1\\names\"\n",
        "TRAIN_SPLIT = 0.8  # 80% training, 20% validation"
      ]
    },
    {
      "cell_type": "markdown",
      "id": "98dc12f7",
      "metadata": {
        "id": "98dc12f7"
      },
      "source": [
        "________________"
      ]
    },
    {
      "cell_type": "markdown",
      "id": "a96e98e8",
      "metadata": {
        "id": "a96e98e8"
      },
      "source": [
        "### Data Processing"
      ]
    },
    {
      "cell_type": "markdown",
      "id": "548857ce",
      "metadata": {
        "id": "548857ce"
      },
      "source": [
        "The following functions and class handle data loading and preprocessing. The `NameDataset` class loads name files and converts them into a format suitable for training.\n"
      ]
    },
    {
      "cell_type": "markdown",
      "id": "ca4069bb",
      "metadata": {
        "id": "ca4069bb"
      },
      "source": [
        "### Helper Functions"
      ]
    },
    {
      "cell_type": "code",
      "execution_count": 3,
      "id": "fee72430",
      "metadata": {
        "id": "fee72430"
      },
      "outputs": [],
      "source": [
        "def unicode_to_ascii(s):\n",
        "    \"\"\"Convert Unicode string to ASCII.\"\"\"\n",
        "    return ''.join(\n",
        "        c for c in unicodedata.normalize('NFD', s)\n",
        "        if unicodedata.category(c) != 'Mn'\n",
        "        and c in string.ascii_letters + \" -'\"\n",
        "    )\n",
        "\n",
        "class NameDataset:\n",
        "    def __init__(self, data_dir):\n",
        "        self.all_letters = string.ascii_letters + \" -'\"\n",
        "        self.n_letters = len(self.all_letters)\n",
        "        self.names = []\n",
        "        self.nationalities = []\n",
        "        self.nationality_to_ix = {}\n",
        "        self.load_data(data_dir)\n",
        "\n",
        "    def load_data(self, data_dir):\n",
        "        \"\"\"Load names from files and create indices.\"\"\"\n",
        "        file_pattern = os.path.join(data_dir, \"*.txt\")\n",
        "        files = glob.glob(file_pattern)\n",
        "\n",
        "        if not files:\n",
        "            raise Exception(f\"No .txt files found in {data_dir}\")\n",
        "\n",
        "        for filename in files:\n",
        "            nationality = os.path.basename(filename).split('.')[0]\n",
        "            if nationality not in self.nationality_to_ix:\n",
        "                self.nationality_to_ix[nationality] = len(self.nationality_to_ix)\n",
        "\n",
        "            with open(filename, encoding='utf-8') as f:\n",
        "                for line in f:\n",
        "                    name = unicode_to_ascii(line.strip())\n",
        "                    if name:\n",
        "                        self.names.append(name)\n",
        "                        self.nationalities.append(self.nationality_to_ix[nationality])\n",
        "\n",
        "        print(f\"Loaded {len(self.names)} names from {len(self.nationality_to_ix)} nationalities\")\n",
        "\n",
        "    def name_to_tensor(self, name):\n",
        "        \"\"\"Convert name to tensor of character indices.\"\"\"\n",
        "        tensor = torch.zeros(MAX_LENGTH, dtype=torch.long)\n",
        "        for i, char in enumerate(name[:MAX_LENGTH]):\n",
        "            if char in self.all_letters:\n",
        "                tensor[i] = self.all_letters.find(char)\n",
        "        return tensor\n",
        "\n",
        "    def __len__(self):\n",
        "        return len(self.names)\n",
        "\n",
        "    def __getitem__(self, idx):\n",
        "        name = self.names[idx]\n",
        "        nationality = self.nationalities[idx]\n",
        "        return self.name_to_tensor(name), torch.tensor(nationality)\n"
      ]
    },
    {
      "cell_type": "markdown",
      "id": "50d8c1cf",
      "metadata": {
        "id": "50d8c1cf"
      },
      "source": [
        "__________________________"
      ]
    },
    {
      "cell_type": "markdown",
      "id": "0105f985",
      "metadata": {
        "id": "0105f985"
      },
      "source": [
        "### Model Architecture"
      ]
    },
    {
      "cell_type": "markdown",
      "id": "5c865eb7",
      "metadata": {
        "id": "5c865eb7"
      },
      "source": [
        "The neural network model consists of an embedding layer followed by fully connected layers.\n"
      ]
    },
    {
      "cell_type": "markdown",
      "id": "f4c657fe",
      "metadata": {
        "id": "f4c657fe"
      },
      "source": [
        "### Model Definition"
      ]
    },
    {
      "cell_type": "code",
      "execution_count": 4,
      "id": "929f7cc3",
      "metadata": {
        "id": "929f7cc3"
      },
      "outputs": [],
      "source": [
        "class NameClassifier(nn.Module):\n",
        "    def __init__(self, input_size, embedding_dim, hidden_size, output_size):\n",
        "        super(NameClassifier, self).__init__()\n",
        "        self.embedding = nn.Embedding(input_size, embedding_dim)\n",
        "        self.fc1 = nn.Linear(embedding_dim * MAX_LENGTH, hidden_size)\n",
        "        self.relu = nn.ReLU()\n",
        "        self.fc2 = nn.Linear(hidden_size, output_size)\n",
        "        self.dropout = nn.Dropout(0.2)\n",
        "\n",
        "    def forward(self, x):\n",
        "        embedded = self.embedding(x)\n",
        "        embedded = embedded.view(embedded.size(0), -1)\n",
        "        hidden = self.fc1(embedded)\n",
        "        hidden = self.relu(hidden)\n",
        "        hidden = self.dropout(hidden)\n",
        "        output = self.fc2(hidden)\n",
        "        return output"
      ]
    },
    {
      "cell_type": "markdown",
      "id": "9d389c92",
      "metadata": {
        "id": "9d389c92"
      },
      "source": [
        "### Training and Evaluation Functions"
      ]
    },
    {
      "cell_type": "markdown",
      "id": "3126059a",
      "metadata": {
        "id": "3126059a"
      },
      "source": [
        "These functions handle model training, evaluation, and performance visualization.\n"
      ]
    },
    {
      "cell_type": "code",
      "execution_count": 5,
      "id": "a6735baf",
      "metadata": {
        "id": "a6735baf"
      },
      "outputs": [],
      "source": [
        "def calculate_accuracy(outputs, targets):\n",
        "    \"\"\"Calculate accuracy for a batch.\"\"\"\n",
        "    _, predicted = torch.max(outputs.data, 1)\n",
        "    total = targets.size(0)\n",
        "    correct = (predicted == targets).sum().item()\n",
        "    return correct / total\n",
        "\n",
        "def evaluate_model(model, data_loader):\n",
        "    \"\"\"Evaluate model on given data loader.\"\"\"\n",
        "    model.eval()\n",
        "    total_correct = 0\n",
        "    total_samples = 0\n",
        "\n",
        "    with torch.no_grad():\n",
        "        for names, nationalities in data_loader:\n",
        "            outputs = model(names)\n",
        "            _, predicted = torch.max(outputs.data, 1)\n",
        "            total_samples += nationalities.size(0)\n",
        "            total_correct += (predicted == nationalities).sum().item()\n",
        "\n",
        "    return total_correct / total_samples\n",
        "\n",
        "def train_model(model, train_loader, val_loader, criterion, optimizer, num_epochs):\n",
        "    model.train()\n",
        "    losses = []\n",
        "    train_accuracies = []\n",
        "    val_accuracies = []\n",
        "\n",
        "    for epoch in range(num_epochs):\n",
        "        total_loss = 0\n",
        "        total_acc = 0\n",
        "        batch_count = 0\n",
        "\n",
        "        for names, nationalities in train_loader:\n",
        "            optimizer.zero_grad()\n",
        "            outputs = model(names)\n",
        "            loss = criterion(outputs, nationalities)\n",
        "            loss.backward()\n",
        "            optimizer.step()\n",
        "\n",
        "            # Calculate batch accuracy\n",
        "            acc = calculate_accuracy(outputs, nationalities)\n",
        "            total_acc += acc\n",
        "            total_loss += loss.item()\n",
        "            batch_count += 1\n",
        "\n",
        "        # Calculate average loss and accuracy for the epoch\n",
        "        avg_loss = total_loss / batch_count\n",
        "        avg_train_acc = total_acc / batch_count\n",
        "\n",
        "        # Calculate validation accuracy\n",
        "        val_acc = evaluate_model(model, val_loader)\n",
        "\n",
        "        losses.append(avg_loss)\n",
        "        train_accuracies.append(avg_train_acc)\n",
        "        val_accuracies.append(val_acc)\n",
        "\n",
        "        print(f'Epoch [{epoch+1}/{num_epochs}]:')\n",
        "        print(f'  Loss: {avg_loss:.4f}')\n",
        "        print(f'  Training Accuracy: {avg_train_acc:.4f}')\n",
        "        print(f'  Validation Accuracy: {val_acc:.4f}')\n",
        "\n",
        "    return losses, train_accuracies, val_accuracies\n"
      ]
    },
    {
      "cell_type": "markdown",
      "id": "83c0c8b0",
      "metadata": {
        "id": "83c0c8b0"
      },
      "source": [
        "_____________________________"
      ]
    },
    {
      "cell_type": "markdown",
      "id": "74797f4d",
      "metadata": {
        "id": "74797f4d"
      },
      "source": [
        "### Visualization and Prediction Functions\n"
      ]
    },
    {
      "cell_type": "markdown",
      "id": "f597865d",
      "metadata": {
        "id": "f597865d"
      },
      "source": [
        "Functions for plotting training metrics and making predictions.\n"
      ]
    },
    {
      "cell_type": "code",
      "execution_count": 6,
      "id": "303bc401",
      "metadata": {
        "id": "303bc401"
      },
      "outputs": [],
      "source": [
        "def plot_metrics(losses, train_accuracies, val_accuracies):\n",
        "    \"\"\"Plot training metrics.\"\"\"\n",
        "    fig, (ax1, ax2) = plt.subplots(1, 2, figsize=(15, 5))\n",
        "\n",
        "    # Plot loss\n",
        "    ax1.plot(losses)\n",
        "    ax1.set_title('Training Loss over Time')\n",
        "    ax1.set_xlabel('Epoch')\n",
        "    ax1.set_ylabel('Loss')\n",
        "\n",
        "    # Plot accuracies\n",
        "    ax2.plot(train_accuracies, label='Training')\n",
        "    ax2.plot(val_accuracies, label='Validation')\n",
        "    ax2.set_title('Model Accuracy over Time')\n",
        "    ax2.set_xlabel('Epoch')\n",
        "    ax2.set_ylabel('Accuracy')\n",
        "    ax2.legend()\n",
        "\n",
        "    plt.tight_layout()\n",
        "    plt.show()\n",
        "\n",
        "def predict_nationality(model, dataset, name, top_k=3):\n",
        "    model.eval()\n",
        "    with torch.no_grad():\n",
        "        name_tensor = dataset.name_to_tensor(name.lower()).unsqueeze(0)\n",
        "        output = model(name_tensor)\n",
        "        probabilities = torch.nn.functional.softmax(output, dim=1)\n",
        "        top_prob, top_idx = torch.topk(probabilities, top_k)\n",
        "\n",
        "        results = []\n",
        "        ix_to_nationality = {v: k for k, v in dataset.nationality_to_ix.items()}\n",
        "        for prob, idx in zip(top_prob[0], top_idx[0]):\n",
        "            nationality = ix_to_nationality[idx.item()]\n",
        "            results.append((prob.item(), nationality))\n",
        "\n",
        "    return results\n"
      ]
    },
    {
      "cell_type": "markdown",
      "id": "a246ac37",
      "metadata": {
        "id": "a246ac37"
      },
      "source": [
        "________________________________"
      ]
    },
    {
      "cell_type": "markdown",
      "id": "a8140246",
      "metadata": {
        "id": "a8140246"
      },
      "source": [
        "### Model Training and Evaluation"
      ]
    },
    {
      "cell_type": "markdown",
      "id": "5e77bad9",
      "metadata": {
        "id": "5e77bad9"
      },
      "source": [
        "Execute this block to train the model and evaluate its performance.\n"
      ]
    },
    {
      "cell_type": "code",
      "execution_count": 7,
      "id": "e79de573",
      "metadata": {
        "colab": {
          "base_uri": "https://localhost:8080/",
          "height": 1000
        },
        "id": "e79de573",
        "outputId": "05048779-3ea3-429e-fa7f-513d2c7b638c"
      },
      "outputs": [
        {
          "name": "stdout",
          "output_type": "stream",
          "text": [
            "Loaded 20074 names from 18 nationalities\n",
            "Epoch [1/15]:\n",
            "  Loss: 1.3245\n",
            "  Training Accuracy: 0.6119\n",
            "  Validation Accuracy: 0.6919\n",
            "Epoch [2/15]:\n",
            "  Loss: 0.9766\n",
            "  Training Accuracy: 0.7045\n",
            "  Validation Accuracy: 0.7103\n",
            "Epoch [3/15]:\n",
            "  Loss: 0.8254\n",
            "  Training Accuracy: 0.7441\n",
            "  Validation Accuracy: 0.7462\n",
            "Epoch [4/15]:\n",
            "  Loss: 0.7187\n",
            "  Training Accuracy: 0.7768\n",
            "  Validation Accuracy: 0.7664\n",
            "Epoch [5/15]:\n",
            "  Loss: 0.6506\n",
            "  Training Accuracy: 0.7979\n",
            "  Validation Accuracy: 0.7704\n",
            "Epoch [6/15]:\n",
            "  Loss: 0.5917\n",
            "  Training Accuracy: 0.8157\n",
            "  Validation Accuracy: 0.7664\n",
            "Epoch [7/15]:\n",
            "  Loss: 0.5431\n",
            "  Training Accuracy: 0.8273\n",
            "  Validation Accuracy: 0.7748\n",
            "Epoch [8/15]:\n",
            "  Loss: 0.5034\n",
            "  Training Accuracy: 0.8396\n",
            "  Validation Accuracy: 0.7758\n",
            "Epoch [9/15]:\n",
            "  Loss: 0.4643\n",
            "  Training Accuracy: 0.8512\n",
            "  Validation Accuracy: 0.7823\n",
            "Epoch [10/15]:\n",
            "  Loss: 0.4338\n",
            "  Training Accuracy: 0.8580\n",
            "  Validation Accuracy: 0.7743\n",
            "Epoch [11/15]:\n",
            "  Loss: 0.3999\n",
            "  Training Accuracy: 0.8680\n",
            "  Validation Accuracy: 0.7858\n",
            "Epoch [12/15]:\n",
            "  Loss: 0.3709\n",
            "  Training Accuracy: 0.8783\n",
            "  Validation Accuracy: 0.7821\n",
            "Epoch [13/15]:\n",
            "  Loss: 0.3497\n",
            "  Training Accuracy: 0.8846\n",
            "  Validation Accuracy: 0.7930\n",
            "Epoch [14/15]:\n",
            "  Loss: 0.3210\n",
            "  Training Accuracy: 0.8927\n",
            "  Validation Accuracy: 0.7873\n",
            "Epoch [15/15]:\n",
            "  Loss: 0.3079\n",
            "  Training Accuracy: 0.8975\n",
            "  Validation Accuracy: 0.7885\n"
          ]
        },
        {
          "data": {
            "image/png": "[encoded data removed]",
            "text/plain": [
              "<Figure size 1500x500 with 2 Axes>"
            ]
          },
          "metadata": {},
          "output_type": "display_data"
        },
        {
          "name": "stdout",
          "output_type": "stream",
          "text": [
            "\n",
            "Final Model Performance:\n",
            "Training Accuracy: 0.9222\n",
            "Validation Accuracy: 0.7885\n"
          ]
        }
      ],
      "source": [
        "if __name__ == \"__main__\":\n",
        "    if not os.path.exists(DATA_PATH):\n",
        "        raise Exception(f\"Directory not found: {DATA_PATH}\")\n",
        "\n",
        "    # Initialize dataset\n",
        "    full_dataset = NameDataset(DATA_PATH)\n",
        "\n",
        "    # Split dataset into training and validation sets\n",
        "    train_size = int(TRAIN_SPLIT * len(full_dataset))\n",
        "    val_size = len(full_dataset) - train_size\n",
        "    train_dataset, val_dataset = random_split(full_dataset, [train_size, val_size])\n",
        "\n",
        "    train_loader = DataLoader(train_dataset, batch_size=BATCH_SIZE, shuffle=True)\n",
        "    val_loader = DataLoader(val_dataset, batch_size=BATCH_SIZE, shuffle=False)\n",
        "\n",
        "    # Initialize model\n",
        "    model = NameClassifier(\n",
        "        input_size=len(full_dataset.all_letters),\n",
        "        embedding_dim=EMBEDDING_DIM,\n",
        "        hidden_size=HIDDEN_SIZE,\n",
        "        output_size=len(full_dataset.nationality_to_ix)\n",
        "    )\n",
        "\n",
        "    # Training setup\n",
        "    criterion = nn.CrossEntropyLoss()\n",
        "    optimizer = torch.optim.Adam(model.parameters(), lr=LEARNING_RATE)\n",
        "\n",
        "    # Train the model\n",
        "    losses, train_accuracies, val_accuracies = train_model(\n",
        "        model, train_loader, val_loader, criterion, optimizer, NUM_EPOCHS\n",
        "    )\n",
        "\n",
        "    # Plot training metrics\n",
        "    plot_metrics(losses, train_accuracies, val_accuracies)\n",
        "\n",
        "    # Final model evaluation\n",
        "    final_train_acc = evaluate_model(model, train_loader)\n",
        "    final_val_acc = evaluate_model(model, val_loader)\n",
        "\n",
        "    print(\"\\nFinal Model Performance:\")\n",
        "    print(f\"Training Accuracy: {final_train_acc:.4f}\")\n",
        "    print(f\"Validation Accuracy: {final_val_acc:.4f}\")\n"
      ]
    },
    {
      "cell_type": "markdown",
      "id": "e664c442",
      "metadata": {
        "id": "e664c442"
      },
      "source": [
        "______________________________"
      ]
    },
    {
      "cell_type": "markdown",
      "id": "92c63fdd",
      "metadata": {
        "id": "92c63fdd"
      },
      "source": [
        "### Make Predictions"
      ]
    },
    {
      "cell_type": "markdown",
      "id": "d5fdb752",
      "metadata": {
        "id": "d5fdb752"
      },
      "source": [
        "Use this block to make predictions for specific names.\n"
      ]
    },
    {
      "cell_type": "code",
      "execution_count": 8,
      "id": "b554e277",
      "metadata": {
        "colab": {
          "base_uri": "https://localhost:8080/"
        },
        "id": "b554e277",
        "outputId": "18d71cbf-29b4-46c8-da84-73e62246555c"
      },
      "outputs": [
        {
          "name": "stdout",
          "output_type": "stream",
          "text": [
            "\n",
            "Predictions for 'Tasneem':\n",
            "(0.56) English\n",
            "(0.19) French\n",
            "(0.14) Italian\n"
          ]
        }
      ],
      "source": [
        "# Prompt the user for their name\n",
        "name = input(\"Enter a name to predict nationality: \")\n",
        "\n",
        "# Make predictions\n",
        "predictions = predict_nationality(model, full_dataset, name)\n",
        "\n",
        "# Display results\n",
        "print(f\"\\nPredictions for '{name}':\")\n",
        "for prob, nationality in predictions:\n",
        "    print(f\"({prob:.2f}) {nationality}\")\n"
      ]
    },
    {
      "cell_type": "code",
      "execution_count": 9,
      "id": "feec4fe6",
      "metadata": {},
      "outputs": [],
      "source": [
        "torch.save(model.state_dict(), 'model.pth')"
      ]
    }
  ],
  "metadata": {
    "colab": {
      "provenance": []
    },
    "kernelspec": {
      "display_name": "Python 3",
      "language": "python",
      "name": "python3"
    },
    "language_info": {
      "codemirror_mode": {
        "name": "ipython",
        "version": 3
      },
      "file_extension": ".py",
      "mimetype": "text/x-python",
      "name": "python",
      "nbconvert_exporter": "python",
      "pygments_lexer": "ipython3",
      "version": "3.10.11"
    }
  },
  "nbformat": 4,
  "nbformat_minor": 5
}
